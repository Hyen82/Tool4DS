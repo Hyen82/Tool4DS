{
 "cells": [
  {
   "cell_type": "markdown",
   "metadata": {},
   "source": [
    "<center>\n",
    "    <img src=\"https://cf-courses-data.s3.us.cloud-object-storage.appdomain.cloud/IBMDeveloperSkillsNetwork-DS0105EN-SkillsNetwork/labs/Module2/images/SN_web_lightmode.png\" width=\"300\" alt=\"cognitiveclass.ai logo\">\n",
    "</center>\n"
   ]
  },
  {
   "cell_type": "markdown",
   "metadata": {},
   "source": [
    "# Practising Jupyterlite Notebook"
   ]
  },
  {
   "cell_type": "markdown",
   "metadata": {},
   "source": [
    "##### In this module, we learned how to use Data Science tools, one of those is Jupyterlite Notebook"
   ]
  },
  {
   "cell_type": "markdown",
   "metadata": {},
   "source": [
    "#### A. Data Science languages are:\n",
    "##### 1. Python, R, SQL\n",
    "##### 2. Scala, Java, C++, and Julia\n",
    "##### 3. JavaScript, PHP, Go, Ruby, and Visual Basic"
   ]
  },
  {
   "cell_type": "markdown",
   "metadata": {},
   "source": [
    "#### B. Data Science libraries (focus on Python libraries) are:\n",
    "##### 1. Scientific Computing Libraries in Python Visualization Libraries in Python High-Level- Machine Learning\n",
    "##### 2. Deep Learning Libraries\n",
    "###### such as Pandas, Numpy, Matplotlib, Seaborn, SciKit-Learn, Keras, TensorFlow, PyTorch,etc."
   ]
  },
  {
   "cell_type": "markdown",
   "metadata": {},
   "source": [
    "#### C. Data Science tools are:\n",
    "|Tool|Description|\n",
    "|:-|:-|\n",
    "|Data Management Tools|include Relational Databases, NoSQL Databases, and Big Data platforms|\n",
    "|Data Integration and Transformation Tools|include Apache Airflow and Apache Kafka|\n",
    "|Data Visualization Tools|include commercial offerings  such as Cognos Analytics, Tableau and PowerBI  and can be used for building dynamic and interactive dashboards|\n",
    "|Code Asset Management Tools|Git is an essential code asset management tool. GitHub is a popular web-based platform for storing and managing source code. Its features make it an ideal tool for collaborative software development, including version control, issue tracking, and project management|\n",
    "|Development Environments|Popular development environments for Data Science include Jupyter Notebooks and RStudio|"
   ]
  },
  {
   "cell_type": "markdown",
   "metadata": {
    "tags": []
   },
   "source": [
    "#### D. Arithmetic expression examples\n",
    "$$\n",
    "x^3 + y^3 = 8\n",
    "$$"
   ]
  },
  {
   "cell_type": "code",
   "execution_count": 8,
   "metadata": {
    "tags": []
   },
   "outputs": [
    {
     "data": {
      "text/plain": [
       "24"
      ]
     },
     "execution_count": 8,
     "metadata": {},
     "output_type": "execute_result"
    }
   ],
   "source": [
    "2*(3+9)"
   ]
  },
  {
   "cell_type": "code",
   "execution_count": 13,
   "metadata": {
    "tags": []
   },
   "outputs": [
    {
     "name": "stdout",
     "output_type": "stream",
     "text": [
      "2:00\n"
     ]
    }
   ],
   "source": [
    "def convert(minutes):\n",
    "    minutes = minutes % (24 * 60)\n",
    "    hour = minutes // 60\n",
    "    minutes %= 60\n",
    "     \n",
    "    return \"%d:%02d\" % (hour, minutes)\n",
    "     \n",
    "# Driver program\n",
    "n = 120\n",
    "print(convert(n))"
   ]
  },
  {
   "cell_type": "markdown",
   "metadata": {},
   "source": [
    "#### Objectives in this module:\n",
    "\n",
    "##### - Create a Jupyter Notebook with markdown and code cells\n",
    "##### - List examples of languages, libraries and tools used in Data Science\n",
    "##### - Share your Jupyter Notebook publicly on GitHub\n",
    "##### - Evaluate notebooks submitted by your peers using the provided rubric\n",
    "##### - Demonstrate proficiency in Data Science toolkit knowledge"
   ]
  },
  {
   "cell_type": "markdown",
   "metadata": {},
   "source": [
    "### Author: Huyen, Duong Hanh Nhu"
   ]
  }
 ],
 "metadata": {
  "kernelspec": {
   "display_name": "Python",
   "language": "python",
   "name": "conda-env-python-py"
  },
  "language_info": {
   "codemirror_mode": {
    "name": "ipython",
    "version": 3
   },
   "file_extension": ".py",
   "mimetype": "text/x-python",
   "name": "python",
   "nbconvert_exporter": "python",
   "pygments_lexer": "ipython3",
   "version": "3.7.12"
  }
 },
 "nbformat": 4,
 "nbformat_minor": 4
}
